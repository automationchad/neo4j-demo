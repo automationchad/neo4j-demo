{
 "cells": [
  {
   "cell_type": "code",
   "execution_count": null,
   "metadata": {},
   "outputs": [],
   "source": [
    "\n",
    "\n"
   ]
  },
  {
   "cell_type": "markdown",
   "metadata": {},
   "source": [
    "Imports everything from the neo4j driver"
   ]
  },
  {
   "cell_type": "code",
   "execution_count": null,
   "metadata": {},
   "outputs": [],
   "source": [
    "import csv\n",
    "import json\n",
    "import os\n",
    "from neo4j import GraphDatabase\n",
    "\n",
    "neo4j_url = os.getenv(\"NEO4J_CONNECTION_URL\")\n",
    "neo4j_user = os.getenv(\"NEO4J_USERNAME\")\n",
    "neo4j_password = os.getenv(\"NEO4J_PASSWORD\")\n",
    "print(neo4j_url, neo4j_user, neo4j_password)\n",
    "\n",
    "driver = GraphDatabase.driver(neo4j_url, auth=(neo4j_user, neo4j_password))\n",
    "session = driver.session()"
   ]
  },
  {
   "cell_type": "markdown",
   "metadata": {},
   "source": [
    "Import customers into the database"
   ]
  },
  {
   "cell_type": "code",
   "execution_count": 5,
   "metadata": {},
   "outputs": [],
   "source": [
    "with open(\"customers.csv\", \"r\") as f:\n",
    "  reader = csv.DictReader(f)\n",
    "  for row in reader:\n",
    "    session.run(\"CREATE (n:Customer {customer_id: $customer_id, owner_name: $owner_name, address1: $address1, address2: $address2, city: $city, state: $state, zip: $zip})\", customer_id=row[\"customer_id\"], owner_name=row[\"owner_name\"], address1=row[\"address1\"], address2=row[\"address2\"], city=row[\"city\"], state=row[\"state\"], zip=row[\"zip\"])\n",
    "\n"
   ]
  },
  {
   "cell_type": "markdown",
   "metadata": {},
   "source": [
    "Import accounts into Neo4j and match them with customers"
   ]
  },
  {
   "cell_type": "code",
   "execution_count": null,
   "metadata": {},
   "outputs": [],
   "source": [
    "with open(\"accounts.csv\", \"r\") as f:\n",
    "        reader = csv.DictReader(f)\n",
    "        for row in reader:\n",
    "            session.run(\"CREATE (n:Account {account_id: $account_id, customer_id: $customer_id, account_type: $account_type, channel: $channel})\", account_id=row[\"account_id\"], customer_id=row[\"customer_id\"], account_type=row[\"account_type\"], channel=row[\"channel\"])\n",
    "            session.run(\"MATCH (c:Customer {customer_id: $customer_id}), (a:Account {account_id: $account_id}) CREATE (c)-[:HAS]->(a)\", customer_id=row[\"customer_id\"], account_id=row[\"account_id\"])"
   ]
  },
  {
   "cell_type": "code",
   "execution_count": null,
   "metadata": {},
   "outputs": [],
   "source": [
    "with open(\"funds.csv\", \"r\") as f:\n",
    "        reader = csv.DictReader(f)\n",
    "        for row in reader:\n",
    "            session.run(\"CREATE (n:Fund {fund_name: $fund_name, ticker: $ticker, assets: $assets, manager: $manager, inception_date: $inception_date, company: $company, expense_ratio: $expense_ratio})\", fund_name=row[\"fund_name\"], ticker=row[\"ticker\"], assets=row[\"assets\"], manager=row[\"manager\"], inception_date=row[\"inception_date\"], company = row[\"company\"], expense_ratio=row[\"expense_ratio\"])"
   ]
  },
  {
   "cell_type": "code",
   "execution_count": null,
   "metadata": {},
   "outputs": [],
   "source": [
    "with open(\"stock_ticker.csv\", \"r\") as f:\n",
    "        reader = csv.DictReader(f)\n",
    "        for row in reader:\n",
    "            session.run(\"CREATE (n:Stock {ticker: $ticker, holding_company: $holding_company})\", ticker=row[\"ticker\"], holding_company=row[\"holding_company\"])"
   ]
  },
  {
   "cell_type": "code",
   "execution_count": null,
   "metadata": {},
   "outputs": [],
   "source": [
    "with open(\"account_purchases.csv\", \"r\") as f:\n",
    "        reader = csv.DictReader(f)\n",
    "        for row in reader:\n",
    "            session.run(\"MATCH (a:Account {account_id: $account_id}), (f:Fund {ticker: $ticker}) CREATE (a)-[:PURCHASED {quantity: $quantity, purchase_date: $purchase_date}]->(f)\", account_id=row[\"account_id\"], ticker=row[\"ticker\"], quantity=row[\"number_of_shares\"], purchase_date=row[\"purchase_date\"])"
   ]
  },
  {
   "cell_type": "code",
   "execution_count": null,
   "metadata": {},
   "outputs": [],
   "source": [
    "with open(\"account_purchases.csv\", \"r\") as f:\n",
    "        reader = csv.DictReader(f)\n",
    "        for row in reader:\n",
    "            session.run(\"MATCH (a:Account {account_id: $account_id}), (s:Stock {ticker: $ticker}) CREATE (a)-[:PURCHASED {quantity: $quantity, purchase_date: $purchase_date}]->(s)\", account_id=row[\"account_id\"], ticker=row[\"ticker\"], quantity=row[\"number_of_shares\"], purchase_date=row[\"purchase_date\"])"
   ]
  },
  {
   "cell_type": "code",
   "execution_count": null,
   "metadata": {},
   "outputs": [],
   "source": [
    "with open(\"fund_holdings.csv\", \"r\") as f:\n",
    "        reader = csv.DictReader(f)\n",
    "        for row in reader:\n",
    "            session.run(\"MATCH (f:Fund {ticker: $fund_ticker}), (s:Stock {ticker: $holding_ticker}) CREATE (f)-[:HOLDS {percent: $percent}]->(s)\", fund_ticker=row[\"fund_ticker\"], holding_ticker=row[\"holding_ticker\"], percent=row[\"percentage\"])"
   ]
  },
  {
   "cell_type": "code",
   "execution_count": null,
   "metadata": {},
   "outputs": [],
   "source": [
    "# Function to process a batch of rows\n",
    "def process_batch(batch):\n",
    "    # Assuming you have a function to create a session\n",
    "    # You might need to adjust the creation of the session depending on your setup\n",
    "    driver = GraphDatabase.driver(neo4j_url, auth=(neo4j_user, neo4j_password))\n",
    "    session = driver.session()\n",
    "    for row in batch:\n",
    "        session.run(\"CREATE (n:DayClose {ticker: $ticker, date: $date, close: $close, volume: $volume, open: $open, high: $high, low: $low})\", \n",
    "                    ticker=row[\"ticker\"], date=row[\"date\"], close=row[\"close\"], volume=row[\"volume\"], open=row[\"open\"], high=row[\"high\"], low=row[\"low\"])\n",
    "        session.run(\"MATCH (s:Stock {ticker: $ticker}) CREATE (s)-[:DAILY_CLOSE]->(n)\", ticker=row[\"ticker\"])\n",
    "    session.close()\n",
    "\n",
    "# Function to read the CSV and divide it into batches\n",
    "def process_csv_in_parallel(file_path, batch_size=1000):\n",
    "    with open(file_path, \"r\") as f:\n",
    "        reader = csv.DictReader(f)\n",
    "        batch = []\n",
    "        for row in reader:\n",
    "            batch.append(row)\n",
    "            if len(batch) >= batch_size:\n",
    "                yield batch\n",
    "                batch = []\n",
    "        if batch:\n",
    "            yield batch\n",
    "\n",
    "# Main function to run the batches in parallel\n",
    "def main():\n",
    "    batches = process_csv_in_parallel(\"daily_close.csv\")\n",
    "    with concurrent.futures.ThreadPoolExecutor(max_workers=5) as executor:\n",
    "        executor.map(process_batch, batches)\n"
   ]
  }
 ],
 "metadata": {
  "kernelspec": {
   "display_name": "Python 3",
   "language": "python",
   "name": "python3"
  },
  "language_info": {
   "codemirror_mode": {
    "name": "ipython",
    "version": 3
   },
   "file_extension": ".py",
   "mimetype": "text/x-python",
   "name": "python",
   "nbconvert_exporter": "python",
   "pygments_lexer": "ipython3",
   "version": "3.10.13"
  }
 },
 "nbformat": 4,
 "nbformat_minor": 2
}
